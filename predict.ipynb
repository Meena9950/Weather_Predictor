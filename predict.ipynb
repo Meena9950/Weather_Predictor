{
 "cells": [
  {
   "cell_type": "code",
   "execution_count": null,
   "id": "06905eeb-329b-4baf-8c8c-877248296a39",
   "metadata": {},
   "outputs": [],
   "source": [
    "import pandas as pd\n",
    "\n",
    "weather = pd.read_csv(\"weather.csv\", index_col=\"DATE\")"
   ]
  },
  {
   "cell_type": "code",
   "execution_count": null,
   "id": "08517c6f-7f32-44b1-87c1-eee4e7e12e8d",
   "metadata": {},
   "outputs": [],
   "source": [
    "weather"
   ]
  },
  {
   "cell_type": "code",
   "execution_count": null,
   "id": "6b92c56c-0763-4693-a18d-ff371eedcee2",
   "metadata": {},
   "outputs": [],
   "source": [
    "null_pct = weather.apply(pd.isnull).sum()/weather.shape[0]\n",
    "null_pct"
   ]
  },
  {
   "cell_type": "code",
   "execution_count": null,
   "id": "50353966-9cb4-470f-82ce-736fba12a65b",
   "metadata": {},
   "outputs": [],
   "source": [
    "valid_columns = weather.columns[null_pct < .05]"
   ]
  },
  {
   "cell_type": "code",
   "execution_count": null,
   "id": "2a0e07a6-0916-4b1f-a481-5b81b876b9c4",
   "metadata": {},
   "outputs": [],
   "source": [
    "valid_columns"
   ]
  },
  {
   "cell_type": "code",
   "execution_count": null,
   "id": "5b501d9a-c57e-4a49-9150-f7c1e34670b6",
   "metadata": {},
   "outputs": [],
   "source": [
    "weather = weather[valid_columns].copy()"
   ]
  },
  {
   "cell_type": "code",
   "execution_count": null,
   "id": "00c44eb8-4739-4a12-9f6c-7bd4e157c82d",
   "metadata": {},
   "outputs": [],
   "source": [
    "weather.columns = weather.columns.str.lower()"
   ]
  },
  {
   "cell_type": "code",
   "execution_count": null,
   "id": "fe4e0908-d644-42e5-b1b9-63435d46eb81",
   "metadata": {},
   "outputs": [],
   "source": [
    "weather"
   ]
  },
  {
   "cell_type": "code",
   "execution_count": null,
   "id": "7038663f-d5fa-4e42-a49d-d2354c171e79",
   "metadata": {},
   "outputs": [],
   "source": [
    "weather = weather.ffill()"
   ]
  },
  {
   "cell_type": "code",
   "execution_count": null,
   "id": "3724aa95-5028-4f1d-a618-c0f9dcfc639b",
   "metadata": {},
   "outputs": [],
   "source": [
    "weather.apply(pd.isnull).sum()"
   ]
  },
  {
   "cell_type": "code",
   "execution_count": null,
   "id": "81ffdb26-1dc4-4a2d-b78e-6f319c023717",
   "metadata": {},
   "outputs": [],
   "source": [
    "weather.apply(lambda x: (x == 9999).sum())"
   ]
  },
  {
   "cell_type": "code",
   "execution_count": null,
   "id": "d3bb0851-92c5-42aa-9f00-227dfa70d341",
   "metadata": {},
   "outputs": [],
   "source": [
    "weather.dtypes"
   ]
  },
  {
   "cell_type": "code",
   "execution_count": null,
   "id": "d46af0b1-664d-4966-9544-18cdc861b1d8",
   "metadata": {},
   "outputs": [],
   "source": [
    "weather.index"
   ]
  },
  {
   "cell_type": "code",
   "execution_count": null,
   "id": "0265ead7-865b-46ae-875c-f4181cd65d81",
   "metadata": {},
   "outputs": [],
   "source": [
    "weather.index = pd.to_datetime(weather.index)"
   ]
  },
  {
   "cell_type": "code",
   "execution_count": null,
   "id": "558b83ea-776f-4e2f-8612-d94ab3ae5c46",
   "metadata": {},
   "outputs": [],
   "source": [
    "weather.index.year.value_counts().sort_index()"
   ]
  },
  {
   "cell_type": "code",
   "execution_count": null,
   "id": "99ea1dfc-e2a8-4801-9c9b-7c3e03e00e80",
   "metadata": {},
   "outputs": [],
   "source": [
    "weather[\"snwd\"].plot()"
   ]
  },
  {
   "cell_type": "code",
   "execution_count": null,
   "id": "246f310d-ebcf-4421-bf92-4839b228abea",
   "metadata": {},
   "outputs": [],
   "source": [
    "weather[\"target\"] = weather.shift(-1)[\"tmax\"]"
   ]
  },
  {
   "cell_type": "code",
   "execution_count": null,
   "id": "b216b637-7ade-4a35-8171-fa2fe3fce1bc",
   "metadata": {},
   "outputs": [],
   "source": [
    "weather"
   ]
  },
  {
   "cell_type": "code",
   "execution_count": null,
   "id": "b66b7be4-b085-4e85-b90f-25464b5d1c2b",
   "metadata": {},
   "outputs": [],
   "source": [
    "weather = weather.ffill()"
   ]
  },
  {
   "cell_type": "code",
   "execution_count": null,
   "id": "21bd450d-54f4-44da-895f-532af1b3c03a",
   "metadata": {},
   "outputs": [],
   "source": [
    "weather"
   ]
  },
  {
   "cell_type": "code",
   "execution_count": null,
   "id": "f4a750d2-f0b2-478b-aa2f-c08af5e8980d",
   "metadata": {},
   "outputs": [],
   "source": [
    "from sklearn.linear_model import Ridge\n",
    "\n",
    "rr = Ridge(alpha=.1)"
   ]
  },
  {
   "cell_type": "code",
   "execution_count": null,
   "id": "e0b1af93-9235-4b4c-bc32-f0aa5fac7b7d",
   "metadata": {},
   "outputs": [],
   "source": [
    "predictors = weather.columns[~weather.columns.isin([\"target\", \"name\", \"station\"])]"
   ]
  },
  {
   "cell_type": "code",
   "execution_count": null,
   "id": "e3746963-9a97-4ba5-a7e8-670dc930de43",
   "metadata": {},
   "outputs": [],
   "source": [
    "def backtest(weather, model, predictors, start=3650, step=90):\n",
    "    all_predictions = []\n",
    "    \n",
    "    for i in range(start, weather.shape[0], step):\n",
    "        train = weather.iloc[:i,:]\n",
    "        test = weather.iloc[i:(i+step),:]\n",
    "        \n",
    "        model.fit(train[predictors], train[\"target\"])\n",
    "        \n",
    "        preds = model.predict(test[predictors])\n",
    "        preds = pd.Series(preds, index=test.index)\n",
    "        combined = pd.concat([test[\"target\"], preds], axis=1)\n",
    "        combined.columns = [\"actual\", \"prediction\"]\n",
    "        combined[\"diff\"] = (combined[\"prediction\"] - combined[\"actual\"]).abs()\n",
    "        \n",
    "        all_predictions.append(combined)\n",
    "    return pd.concat(all_predictions)"
   ]
  },
  {
   "cell_type": "code",
   "execution_count": null,
   "id": "85ec72f5-4019-465e-ba12-e3dfe63175eb",
   "metadata": {},
   "outputs": [],
   "source": [
    "predictions = backtest(weather, rr, predictors)"
   ]
  },
  {
   "cell_type": "code",
   "execution_count": null,
   "id": "6ef8265b-ed34-4084-b938-045c7c574172",
   "metadata": {},
   "outputs": [],
   "source": [
    "from sklearn.metrics import mean_absolute_error, mean_squared_error\n",
    "\n",
    "mean_absolute_error(predictions[\"actual\"], predictions[\"prediction\"])"
   ]
  },
  {
   "cell_type": "code",
   "execution_count": null,
   "id": "5073ff62-3dd2-4148-b6e1-03640782ae62",
   "metadata": {},
   "outputs": [],
   "source": [
    "predictions.sort_values(\"diff\", ascending=False)"
   ]
  },
  {
   "cell_type": "code",
   "execution_count": null,
   "id": "0f5af9ae-8306-4814-85a3-0e98642ded85",
   "metadata": {},
   "outputs": [],
   "source": [
    "pd.Series(rr.coef_, index=predictors)"
   ]
  },
  {
   "cell_type": "code",
   "execution_count": null,
   "id": "6af4f22a-a9a9-4b65-8d49-3365da48b8ec",
   "metadata": {},
   "outputs": [],
   "source": [
    "def pct_diff(old, new):\n",
    "    return (new - old) / old\n",
    "\n",
    "def compute_rolling(weather, horizon, col):\n",
    "    label = f\"rolling_{horizon}_{col}\"\n",
    "    weather[label] = weather[col].rolling(horizon).mean()\n",
    "    weather[f\"{label}_pct\"] = pct_diff(weather[label], weather[col])\n",
    "    return weather\n",
    "    \n",
    "rolling_horizons = [3, 14]\n",
    "for horizon in rolling_horizons:\n",
    "    for col in [\"tmax\", \"tmin\", \"prcp\"]:\n",
    "        weather = compute_rolling(weather, horizon, col)"
   ]
  },
  {
   "cell_type": "code",
   "execution_count": null,
   "id": "ff1ccc4b-e48a-40bf-9657-2cc1b5d0fdca",
   "metadata": {},
   "outputs": [],
   "source": [
    "def expand_mean(df):\n",
    "    return df.expanding(1).mean()\n",
    "\n",
    "for col in [\"tmax\", \"tmin\", \"prcp\"]:\n",
    "    weather[f\"month_avg_{col}\"] = weather[col].groupby(weather.index.month, group_keys=False).apply(expand_mean)\n",
    "    weather[f\"day_avg_{col}\"] = weather[col].groupby(weather.index.day_of_year, group_keys=False).apply(expand_mean)"
   ]
  },
  {
   "cell_type": "code",
   "execution_count": null,
   "id": "9d568ccd-7364-4314-944e-f8d8aecd9a0e",
   "metadata": {},
   "outputs": [],
   "source": [
    "weather = weather.iloc[14:,:]\n",
    "weather = weather.fillna(0)"
   ]
  },
  {
   "cell_type": "code",
   "execution_count": null,
   "id": "ad865034-621f-4e23-8eeb-bbe6469a6714",
   "metadata": {},
   "outputs": [],
   "source": [
    "predictors = weather.columns[~weather.columns.isin([\"target\", \"name\", \"station\"])]"
   ]
  },
  {
   "cell_type": "code",
   "execution_count": null,
   "id": "c39ab4af-a1a8-4968-99b1-266afe31252a",
   "metadata": {},
   "outputs": [],
   "source": [
    "predictions = backtest(weather, rr, predictors)\n",
    "mean_absolute_error(predictions[\"actual\"], predictions[\"prediction\"])"
   ]
  },
  {
   "cell_type": "code",
   "execution_count": null,
   "id": "f6d386f0-7f51-495b-8b8b-1d66d16d0c1a",
   "metadata": {},
   "outputs": [],
   "source": [
    "mean_squared_error(predictions[\"actual\"], predictions[\"prediction\"])"
   ]
  },
  {
   "cell_type": "code",
   "execution_count": null,
   "id": "1b1a403f-71b3-41d4-a507-60af90e5606e",
   "metadata": {},
   "outputs": [],
   "source": [
    "predictions.sort_values(\"diff\", ascending=False)"
   ]
  },
  {
   "cell_type": "code",
   "execution_count": null,
   "id": "18504068-4ed5-4cd3-a6f2-06294c8a90cc",
   "metadata": {},
   "outputs": [],
   "source": [
    "weather.loc[\"1990-03-07\": \"1990-03-17\"]"
   ]
  },
  {
   "cell_type": "code",
   "execution_count": null,
   "id": "f00bb962-5b02-4fb3-a28b-56def4451c72",
   "metadata": {},
   "outputs": [],
   "source": [
    "(predictions[\"diff\"].round().value_counts().sort_index() / predictions.shape[0]).plot()"
   ]
  },
  {
   "cell_type": "code",
   "execution_count": null,
   "id": "e6aae835-e84f-43ad-b852-781ef63e981d",
   "metadata": {},
   "outputs": [],
   "source": [
    "predictions"
   ]
  }
 ],
 "metadata": {
  "kernelspec": {
   "display_name": "Python 3 (ipykernel)",
   "language": "python",
   "name": "python3"
  },
  "language_info": {
   "codemirror_mode": {
    "name": "ipython",
    "version": 3
   },
   "file_extension": ".py",
   "mimetype": "text/x-python",
   "name": "python",
   "nbconvert_exporter": "python",
   "pygments_lexer": "ipython3",
   "version": "3.11.3"
  }
 },
 "nbformat": 4,
 "nbformat_minor": 5
}
